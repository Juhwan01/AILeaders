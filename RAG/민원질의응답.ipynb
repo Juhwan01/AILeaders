{
 "cells": [
  {
   "cell_type": "code",
   "execution_count": null,
   "metadata": {},
   "outputs": [],
   "source": [
    "import json\n",
    "\n",
    "file_path = '민원(콜센터) 질의응답_다산콜센터_일반행정 문의_Validation.json'\n",
    "\n",
    "#JSon파일 읽기\n",
    "with open(file_path, 'r') as file:\n",
    "    data = json.load(file)\n",
    "    \n",
    "#JSon파일 출력\n",
    "print(json.dumps(data,ensure_ascii=False, indent=4))"
   ]
  },
  {
   "cell_type": "code",
   "execution_count": null,
   "metadata": {},
   "outputs": [],
   "source": [
    "mmdata = dict()\n",
    "for m in data:\n",
    "    q = m['고객질문(요청)']\n",
    "    a = m['상담사답변']\n",
    "    id = m['대화셋일련번호']\n",
    "    \n",
    "    # mmdata에 대화셋일련번호가 없으면 추가\n",
    "    if id not in mmdata:\n",
    "        mmdata[id] = []\n",
    "        \n",
    "    # q 또는 a가 비어있지 않은 것만 추가\n",
    "    if q != \"\":\n",
    "        mmdata[id].append(q)\n",
    "    if a != \"\":\n",
    "        mmdata[id].append(a)\n",
    "        \n",
    "mmdata\n",
    "\n",
    "#JSon파일 출력\n",
    "with open('mydata.json', 'w') as file:\n",
    "    json.dump(mmdata, file, ensure_ascii=False, indent=4)"
   ]
  },
  {
   "cell_type": "code",
   "execution_count": null,
   "metadata": {},
   "outputs": [],
   "source": [
    "# openAI API사용\n",
    "# mydata.json 사용\n",
    "# data 기반으로 대화셋 생성\n",
    "# 한묶음 -> openAI -> 질문 답변 -> 5000번"
   ]
  },
  {
   "cell_type": "code",
   "execution_count": null,
   "metadata": {},
   "outputs": [],
   "source": [
    "import os\n",
    "from openai import OpenAI\n",
    "from dotenv import load_dotenv\n",
    "import json\n",
    "\n",
    "MODEL=\"gpt-4o\"\n",
    "client = OpenAI(api_key = os.environ.get(\"OPENAI_API_KEY\", \"<your OpenAI API key if not set as an env var>\"))\n",
    "\n",
    "load_dotenv()\n",
    "\n",
    "with open('mydata.json', 'r', encoding='utf-8') as f:\n",
    "    data = json.load(f)\n",
    "    \n",
    "data_str = json.dumps(data, ensure_ascii=False, indent=4)"
   ]
  },
  {
   "cell_type": "code",
   "execution_count": null,
   "metadata": {},
   "outputs": [],
   "source": [
    "data = list(data.values())\n",
    "data"
   ]
  },
  {
   "cell_type": "code",
   "execution_count": null,
   "metadata": {},
   "outputs": [],
   "source": [
    "len(data)"
   ]
  },
  {
   "cell_type": "code",
   "execution_count": null,
   "metadata": {},
   "outputs": [],
   "source": [
    "#data0 = data[44]\n",
    "logs = []\n",
    "for d in data:\n",
    "    stttt = '\\n'.join(d)\n",
    "\n",
    "    prompt = f\"\"\"다음 내용은 대화내용입니다. 대화내용을 한문장으로 출력하세요. 대화 내용에서 맥락을 분석하고 정보를 추출하는 것이 목적입니다.\n",
    "요약하지 마시오. 구체적으로 작성하시오.\n",
    "{stttt}\n",
    "\"\"\"\n",
    "    \n",
    "    completion = client.chat.completions.create(\n",
    "        model = MODEL,\n",
    "        messages = [{\"role\": \"user\", \"content\": prompt}],\n",
    "    )\n",
    "    completion\n",
    "    response = completion.choices[0].message.content\n",
    "    print(response)\n",
    "    import time\n",
    "    time.sleep(1)\n",
    "    \n",
    "    logs.append({\"source\": stttt, \"response\": response})\n",
    "    \n",
    "\n",
    "# log.json 파일에 저장\n",
    "with open('log.json', 'w', encoding='utf-8') as f:\n",
    "    f.write(json.dumps(logs, ensure_ascii=False, indent=4))"
   ]
  },
  {
   "cell_type": "code",
   "execution_count": null,
   "metadata": {},
   "outputs": [],
   "source": [
    "# vector data 만들기 \n",
    "# chromdb use\n",
    "# openai embedding search. use case. \n",
    "\n",
    "\n",
    "# 내 데이터를 벡터 데이터로 만드는데 임베딩이라는걸 하는 거고...\n",
    "# 디비에 벡터 데이터를 넣는다.\n",
    "\n",
    "# 리트리버: 벡터 데이터를 가지고 검색하는 것\n",
    "\n",
    "\n",
    "\n",
    "\n"
   ]
  }
 ],
 "metadata": {
  "kernelspec": {
   "display_name": "BokyungisaGod",
   "language": "python",
   "name": "python3"
  },
  "language_info": {
   "codemirror_mode": {
    "name": "ipython",
    "version": 3
   },
   "file_extension": ".py",
   "mimetype": "text/x-python",
   "name": "python",
   "nbconvert_exporter": "python",
   "pygments_lexer": "ipython3",
   "version": "3.11.9"
  }
 },
 "nbformat": 4,
 "nbformat_minor": 2
}
